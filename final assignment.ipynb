{
 "cells": [
  {
   "cell_type": "code",
   "execution_count": 4,
   "id": "4b9b8c24-2646-4fc4-984a-69ec95f27361",
   "metadata": {},
   "outputs": [
    {
     "name": "stdout",
     "output_type": "stream",
     "text": [
      "Welcome to my Kingdom\n",
      "My Name is King Eloon, You Must be a distant relative of King Rusk\n",
      "He told me about you that you will visit one day for the fortune he left behind\n",
      "Before you reach there you need to overcome the obstacles and collect a few things\n",
      "You need to cross the five dungeons and collect - health, money, Dollar, key\n",
      "Let's begin the game with your name\n"
     ]
    },
    {
     "name": "stdin",
     "output_type": "stream",
     "text": [
      "What's your name:  Vikram\n"
     ]
    },
    {
     "name": "stdout",
     "output_type": "stream",
     "text": [
      "There is an old saying, 'What is in a name?' My name is Vikram, and I am a relative of Musk\n"
     ]
    },
    {
     "name": "stdin",
     "output_type": "stream",
     "text": [
      "Enter any key to continue -  a\n"
     ]
    },
    {
     "name": "stdout",
     "output_type": "stream",
     "text": [
      "\tLet's move to the next level. To move to the final destination and open the jewelry box, you must collect all the items.\n",
      "Moves:\t'go {Arena}' (Forward, Backward, Right, or Left)\n",
      "\t'get {item}' (Collect items in the backpack)\n",
      "\n",
      " Currently you are in Dungeon\n",
      "backpack: []\n",
      "---------------------------\n",
      "\n"
     ]
    },
    {
     "name": "stdin",
     "output_type": "stream",
     "text": [
      "Where you want to go:\n",
      " Go forward\n"
     ]
    },
    {
     "name": "stdout",
     "output_type": "stream",
     "text": [
      " Currently you are in Dungeon 1\n",
      "backpack: []\n",
      "---------------------------\n",
      "You step Forward\n",
      "You see a Money holder\n"
     ]
    },
    {
     "name": "stdin",
     "output_type": "stream",
     "text": [
      "Where you want to go:\n",
      " get Money holder\n"
     ]
    },
    {
     "name": "stdout",
     "output_type": "stream",
     "text": [
      " Currently you are in Dungeon 1\n",
      "backpack: ['Money holder']\n",
      "---------------------------\n",
      "Money holder received!\n"
     ]
    },
    {
     "name": "stdin",
     "output_type": "stream",
     "text": [
      "Where you want to go:\n",
      " get Money holder\n"
     ]
    },
    {
     "name": "stdout",
     "output_type": "stream",
     "text": [
      " Currently you are in Dungeon 1\n",
      "backpack: ['Money holder', 'Money holder']\n",
      "---------------------------\n",
      "Money holder received!\n"
     ]
    },
    {
     "name": "stdin",
     "output_type": "stream",
     "text": [
      "Where you want to go:\n",
      " go backward\n"
     ]
    },
    {
     "name": "stdout",
     "output_type": "stream",
     "text": [
      " Currently you are in Dungeon\n",
      "backpack: ['Money holder', 'Money holder']\n",
      "---------------------------\n",
      "You step Backward\n"
     ]
    },
    {
     "name": "stdin",
     "output_type": "stream",
     "text": [
      "Where you want to go:\n",
      " go backward\n"
     ]
    },
    {
     "name": "stdout",
     "output_type": "stream",
     "text": [
      " Currently you are in Dungeon 2\n",
      "backpack: ['Money holder', 'Money holder']\n",
      "---------------------------\n",
      "You step Backward\n",
      "You see a Dollar\n"
     ]
    },
    {
     "name": "stdin",
     "output_type": "stream",
     "text": [
      "Where you want to go:\n",
      " get Dollar\n"
     ]
    },
    {
     "name": "stdout",
     "output_type": "stream",
     "text": [
      " Currently you are in Dungeon 2\n",
      "backpack: ['Money holder', 'Money holder', 'Dollar']\n",
      "---------------------------\n",
      "Dollar received!\n"
     ]
    },
    {
     "name": "stdin",
     "output_type": "stream",
     "text": [
      "Where you want to go:\n",
      " a\n"
     ]
    },
    {
     "name": "stdout",
     "output_type": "stream",
     "text": [
      " Currently you are in Dungeon 2\n",
      "backpack: ['Money holder', 'Dollar']\n",
      "---------------------------\n",
      "Invalid command. Money holder was removed from your backpack.\n"
     ]
    },
    {
     "name": "stdin",
     "output_type": "stream",
     "text": [
      "Where you want to go:\n",
      " go right\n"
     ]
    },
    {
     "name": "stdout",
     "output_type": "stream",
     "text": [
      " Currently you are in Dungeon 4\n",
      "backpack: ['Money holder', 'Dollar']\n",
      "---------------------------\n",
      "You step Right\n",
      "You see a Health\n"
     ]
    },
    {
     "name": "stdin",
     "output_type": "stream",
     "text": [
      "Where you want to go:\n",
      " get Health\n"
     ]
    },
    {
     "name": "stdout",
     "output_type": "stream",
     "text": [
      " Currently you are in Dungeon 4\n",
      "backpack: ['Money holder', 'Dollar', 'Health']\n",
      "---------------------------\n",
      "Health received!\n"
     ]
    },
    {
     "name": "stdin",
     "output_type": "stream",
     "text": [
      "Where you want to go:\n",
      " go left\n"
     ]
    },
    {
     "name": "stdout",
     "output_type": "stream",
     "text": [
      " Currently you are in Dungeon 2\n",
      "backpack: ['Money holder', 'Dollar', 'Health']\n",
      "---------------------------\n",
      "You step Left\n"
     ]
    },
    {
     "name": "stdin",
     "output_type": "stream",
     "text": [
      "Where you want to go:\n",
      " go forward\n"
     ]
    },
    {
     "name": "stdout",
     "output_type": "stream",
     "text": [
      " Currently you are in Dungeon\n",
      "backpack: ['Money holder', 'Dollar', 'Health']\n",
      "---------------------------\n",
      "You step Forward\n"
     ]
    },
    {
     "name": "stdin",
     "output_type": "stream",
     "text": [
      "Where you want to go:\n",
      " go forward\n"
     ]
    },
    {
     "name": "stdout",
     "output_type": "stream",
     "text": [
      " Currently you are in Dungeon 1\n",
      "backpack: ['Money holder', 'Dollar', 'Health']\n",
      "---------------------------\n",
      "You step Forward\n"
     ]
    },
    {
     "name": "stdin",
     "output_type": "stream",
     "text": [
      "Where you want to go:\n",
      " go right\n"
     ]
    },
    {
     "name": "stdout",
     "output_type": "stream",
     "text": [
      " Currently you are in Dungeon 1\n",
      "backpack: ['Money holder', 'Dollar', 'Health']\n",
      "---------------------------\n",
      "You can't go that way.\n"
     ]
    },
    {
     "name": "stdin",
     "output_type": "stream",
     "text": [
      "Where you want to go:\n",
      " go backward\n"
     ]
    },
    {
     "name": "stdout",
     "output_type": "stream",
     "text": [
      " Currently you are in Dungeon\n",
      "backpack: ['Money holder', 'Dollar', 'Health']\n",
      "---------------------------\n",
      "You step Backward\n"
     ]
    },
    {
     "name": "stdin",
     "output_type": "stream",
     "text": [
      "Where you want to go:\n",
      " go right\n"
     ]
    },
    {
     "name": "stdout",
     "output_type": "stream",
     "text": [
      " Currently you are in Dungeon 3\n",
      "backpack: ['Money holder', 'Dollar', 'Health']\n",
      "---------------------------\n",
      "You step Right\n",
      "You see a Key\n"
     ]
    },
    {
     "name": "stdin",
     "output_type": "stream",
     "text": [
      "Where you want to go:\n",
      " get key\n"
     ]
    },
    {
     "name": "stdout",
     "output_type": "stream",
     "text": [
      " Currently you are in Dungeon 3\n",
      "backpack: ['Money holder', 'Dollar', 'Health', 'Key']\n",
      "---------------------------\n",
      "Key received!\n"
     ]
    },
    {
     "name": "stdin",
     "output_type": "stream",
     "text": [
      "Where you want to go:\n",
      " go right\n"
     ]
    },
    {
     "name": "stdout",
     "output_type": "stream",
     "text": [
      " Currently you are in Dungeon 5\n",
      "backpack: ['Money holder', 'Dollar', 'Health', 'Key']\n",
      "---------------------------\n",
      "You step Right\n",
      "You opened the Jewelry Box!\n"
     ]
    }
   ],
   "source": [
    "import random\n",
    "print(\"Welcome to my Kingdom\")\n",
    "print(\"My Name is King Eloon, You Must be a distant relative of King Rusk\")\n",
    "print(\"He told me about you that you will visit one day for the fortune he left behind\")\n",
    "print(\"Before you reach there you need to overcome the obstacles and collect a few things\")\n",
    "print(\"You need to cross the five dungeons and collect - health, money, Dollar, key\")\n",
    "print(\"Let's begin the game with your name\")\n",
    "name = input(\"What's your name: \")\n",
    "print(f\"There is an old saying, 'What is in a name?' My name is {name}, and I am a relative of Musk\")\n",
    "\n",
    "def prompt():\n",
    "    print(\"\\tLet's move to the next level. \\\n",
    "To move to the final destination and open the jewelry box, you must collect all the items.\\n\\\n",
    "Moves:\\t'go {Arena}' (Forward, Backward, Right, or Left)\\n\\\n",
    "\\t'get {item}' (Collect items in the backpack)\\n\")\n",
    "input(\"Enter any key to continue - \")\n",
    "\n",
    "Dungeons = {\n",
    "    'Dungeon': {'Forward': 'Dungeon 1', 'Backward': 'Dungeon 2', 'Right': 'Dungeon 3'},\n",
    "    'Dungeon 1': {'Backward': 'Dungeon', 'Item': 'Money holder'},\n",
    "    'Dungeon 2': {'Forward': 'Dungeon', 'Right': 'Dungeon 4', 'Item': 'Dollar'},\n",
    "    'Dungeon 3': {'Left': 'Dungeon', 'Right': 'Dungeon 5', 'Item': 'Key'},\n",
    "    'Dungeon 4': {'Left': 'Dungeon 2', 'Item': 'Health'},\n",
    "    'Dungeon 5': {'Left': 'Dungeon 3', 'Box': 'Jewelry Box'}\n",
    "}\n",
    "\n",
    "backpack = []                                                                             # backpack to list all items collected\n",
    "current_Dungeon = \"Dungeon\"                                                               # Initial dungeons\n",
    "notes = \"\"                                                                                # last step\n",
    "\n",
    "def backpack_added(item):                                                                  # add item to backpack\n",
    "    backpack.append(item)\n",
    "\n",
    "def remove_item():                                                                         # remove random item from backpack\n",
    "    if backpack:\n",
    "        removed_item = random.choice(backpack)\n",
    "        backpack.remove(removed_item)\n",
    "        return removed_item\n",
    "    else:\n",
    "        return \"Your backpack is empty.\"\n",
    "\n",
    "prompt()                                                                                      # use prompt function\n",
    "\n",
    "while True:                                                                                   # initialize game loop\n",
    "    print(f\" Currently you are in {current_Dungeon}\\nbackpack: {backpack}\\n{'-' * 27}\")       # player info\n",
    "    print(notes)  # show message\n",
    "\n",
    "    if \"Item\" in Dungeons[current_Dungeon].keys():                                               # items-indicated\n",
    "        item = Dungeons[current_Dungeon][\"Item\"]\n",
    "\n",
    "        if item not in backpack and item != \"Jewelry Box\":\n",
    "            print(f\"You see a {item}\")\n",
    "\n",
    "    if current_Dungeon == \"Dungeon 5\" and all(item in backpack for item in [\"Money holder\", \"Dollar\", \"Health\", \"Key\"]):   #set condition\n",
    "        print(\"You opened the Jewelry Box!\")\n",
    "        break\n",
    "    elif current_Dungeon == \"Dungeon 5\" and not all(item in backpack for item in [\"Money holder\", \"Dollar\", \"Health\", \"Key\"]):\n",
    "        print(\"Not enough items to open the the Jewelry Box.\")\n",
    "        break\n",
    "\n",
    "    users = input(\"Where you want to go:\\n\")                                                       # player move\n",
    "    moves = users.split(' ')                                                                       # move to words\n",
    "    step = moves[0].title()                                                                             # action\n",
    "    item = \"Item\"                                                                                       # item/direction\n",
    "    Arena = \"null\"\n",
    "\n",
    "    if len(moves) > 1:                                                                                  # direction\n",
    "        item = moves[1:]\n",
    "        Arena = moves[1].title()\n",
    "        item = \" \".join(item).title()\n",
    "\n",
    "    if step == \"Go\":                                                                                     # feasibility to move between rooms\n",
    "        try:\n",
    "            current_Dungeon = Dungeons[current_Dungeon][Arena]\n",
    "            notes = f\"You step {Arena}\"\n",
    "        except:\n",
    "            notes = \"You can't go that way.\"\n",
    "\n",
    "    elif step == \"Get\":                                                                                 # items picked\n",
    "        try:\n",
    "            item = item.lower()                                                                        # lower case items\n",
    "            if item == Dungeons[current_Dungeon][\"Item\"].lower():\n",
    "                backpack_added(Dungeons[current_Dungeon][\"Item\"])\n",
    "                notes = f\"{Dungeons[current_Dungeon]['Item']} received!\"\n",
    "            else:\n",
    "                notes = f\"Can not find {item}\"\n",
    "        except:\n",
    "            notes = f\"Can not find {item}\"\n",
    "\n",
    "    else:                                                                                             # omit random item\n",
    "        removed_item = remove_item()\n",
    "        notes = f\"Invalid command. {removed_item} was removed from your backpack.\"\n",
    "\n",
    "    if step == \"Bye\":                                                                                # Quit\n",
    "        break"
   ]
  }
 ],
 "metadata": {
  "kernelspec": {
   "display_name": "Python 3 (ipykernel)",
   "language": "python",
   "name": "python3"
  },
  "language_info": {
   "codemirror_mode": {
    "name": "ipython",
    "version": 3
   },
   "file_extension": ".py",
   "mimetype": "text/x-python",
   "name": "python",
   "nbconvert_exporter": "python",
   "pygments_lexer": "ipython3",
   "version": "3.11.5"
  }
 },
 "nbformat": 4,
 "nbformat_minor": 5
}
